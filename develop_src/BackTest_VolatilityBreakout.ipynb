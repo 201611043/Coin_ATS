{
 "cells": [
  {
   "cell_type": "markdown",
   "id": "1c515a54",
   "metadata": {},
   "source": [
    "# Back testing Code"
   ]
  },
  {
   "cell_type": "code",
   "execution_count": 1,
   "id": "1044946b",
   "metadata": {},
   "outputs": [],
   "source": [
    "import pyupbit\n",
    "import numpy as np\n",
    "import time\n",
    "import pandas as pd\n",
    "import warnings\n",
    "warnings.filterwarnings(action='ignore')\n",
    "from tqdm import tqdm"
   ]
  },
  {
   "cell_type": "code",
   "execution_count": 2,
   "id": "5acb34ea",
   "metadata": {},
   "outputs": [],
   "source": [
    "coin_type = \"KRW-BTC\"\n",
    "# OHLCV: Open High Low Close Volume. 당일 시가, 고가, 저가, 종가, 거래량에 대한 data\n",
    "df = pyupbit.get_ohlcv(coin_type, count=230) # 7 days"
   ]
  },
  {
   "cell_type": "code",
   "execution_count": 3,
   "id": "487998af",
   "metadata": {},
   "outputs": [],
   "source": [
    "# ==========================================================\n",
    "# 전략: 변동성 돌파\n",
    "\n",
    "\n",
    "# 변동폭*k 계산. (고가-저가)*k value\n",
    "k = 0.032\n",
    "df['range'] = (df['high'] - df['low']) * k\n",
    "\n",
    "# target(매수가), range column을 한 칸씩 밑으로 내림\n",
    "# 어제 가격을 오늘 반영해서 써야 하기 때문\n",
    "df['target'] = df['open'] + df['range'].shift(1) \n",
    "\n",
    "# =========================================================="
   ]
  },
  {
   "cell_type": "code",
   "execution_count": 4,
   "id": "aadfb282",
   "metadata": {},
   "outputs": [
    {
     "data": {
      "text/plain": [
       "2021-08-27 09:00:00    1.000000\n",
       "2021-08-28 09:00:00    0.998326\n",
       "2021-08-29 09:00:00    0.996128\n",
       "2021-08-30 09:00:00    0.972982\n",
       "2021-08-31 09:00:00    0.988194\n",
       "                         ...   \n",
       "2022-04-09 09:00:00    1.004465\n",
       "2022-04-10 09:00:00    0.990211\n",
       "2022-04-11 09:00:00    0.946581\n",
       "2022-04-12 09:00:00    1.008063\n",
       "2022-04-13 09:00:00    1.000000\n",
       "Name: ror, Length: 230, dtype: float64"
      ]
     },
     "execution_count": 4,
     "metadata": {},
     "output_type": "execute_result"
    }
   ],
   "source": [
    "# np.where(조건문, 참일때 값, 거짓일 때 값)\n",
    "fee = 0.0005\n",
    "\n",
    "# 수익률 = 목표가/종가 \n",
    "df['ror'] = np.where(df['high'] > df['target'], df['close']/df['target'] - fee, 1)\n",
    "df['ror']"
   ]
  },
  {
   "cell_type": "code",
   "execution_count": 5,
   "id": "d1063356",
   "metadata": {},
   "outputs": [
    {
     "data": {
      "text/plain": [
       "2021-08-27 09:00:00    1.000000\n",
       "2021-08-28 09:00:00    0.998326\n",
       "2021-08-29 09:00:00    0.994460\n",
       "2021-08-30 09:00:00    0.967592\n",
       "2021-08-31 09:00:00    0.956169\n",
       "                         ...   \n",
       "2022-04-09 09:00:00    0.855723\n",
       "2022-04-10 09:00:00    0.847347\n",
       "2022-04-11 09:00:00    0.802082\n",
       "2022-04-12 09:00:00    0.808549\n",
       "2022-04-13 09:00:00    0.808549\n",
       "Name: hpr, Length: 230, dtype: float64"
      ]
     },
     "execution_count": 5,
     "metadata": {},
     "output_type": "execute_result"
    }
   ],
   "source": [
    "# 누적 곱 계산(cumprod) => 누적 수익률\n",
    "df['hpr'] = df['ror'].cumprod()\n",
    "df['hpr']"
   ]
  },
  {
   "cell_type": "code",
   "execution_count": 6,
   "id": "64c195a2",
   "metadata": {},
   "outputs": [
    {
     "data": {
      "text/html": [
       "<div>\n",
       "<style scoped>\n",
       "    .dataframe tbody tr th:only-of-type {\n",
       "        vertical-align: middle;\n",
       "    }\n",
       "\n",
       "    .dataframe tbody tr th {\n",
       "        vertical-align: top;\n",
       "    }\n",
       "\n",
       "    .dataframe thead th {\n",
       "        text-align: right;\n",
       "    }\n",
       "</style>\n",
       "<table border=\"1\" class=\"dataframe\">\n",
       "  <thead>\n",
       "    <tr style=\"text-align: right;\">\n",
       "      <th></th>\n",
       "      <th>open</th>\n",
       "      <th>high</th>\n",
       "      <th>low</th>\n",
       "      <th>close</th>\n",
       "      <th>volume</th>\n",
       "      <th>value</th>\n",
       "      <th>range</th>\n",
       "      <th>target</th>\n",
       "      <th>ror</th>\n",
       "      <th>hpr</th>\n",
       "      <th>dd</th>\n",
       "    </tr>\n",
       "  </thead>\n",
       "  <tbody>\n",
       "    <tr>\n",
       "      <th>2021-08-27 09:00:00</th>\n",
       "      <td>55255000.0</td>\n",
       "      <td>57600000.0</td>\n",
       "      <td>54616000.0</td>\n",
       "      <td>57401000.0</td>\n",
       "      <td>8324.331968</td>\n",
       "      <td>4.660757e+11</td>\n",
       "      <td>95488.0</td>\n",
       "      <td>NaN</td>\n",
       "      <td>1.000000</td>\n",
       "      <td>1.000000</td>\n",
       "      <td>0.000000</td>\n",
       "    </tr>\n",
       "    <tr>\n",
       "      <th>2021-08-28 09:00:00</th>\n",
       "      <td>57400000.0</td>\n",
       "      <td>57885000.0</td>\n",
       "      <td>56704000.0</td>\n",
       "      <td>57428000.0</td>\n",
       "      <td>5552.262749</td>\n",
       "      <td>3.186951e+11</td>\n",
       "      <td>37792.0</td>\n",
       "      <td>57495488.0</td>\n",
       "      <td>0.998326</td>\n",
       "      <td>0.998326</td>\n",
       "      <td>0.167380</td>\n",
       "    </tr>\n",
       "    <tr>\n",
       "      <th>2021-08-29 09:00:00</th>\n",
       "      <td>57428000.0</td>\n",
       "      <td>58000000.0</td>\n",
       "      <td>56500000.0</td>\n",
       "      <td>57272000.0</td>\n",
       "      <td>11623.618673</td>\n",
       "      <td>6.647657e+11</td>\n",
       "      <td>48000.0</td>\n",
       "      <td>57465792.0</td>\n",
       "      <td>0.996128</td>\n",
       "      <td>0.994460</td>\n",
       "      <td>0.553962</td>\n",
       "    </tr>\n",
       "    <tr>\n",
       "      <th>2021-08-30 09:00:00</th>\n",
       "      <td>57272000.0</td>\n",
       "      <td>57479000.0</td>\n",
       "      <td>55555000.0</td>\n",
       "      <td>55800000.0</td>\n",
       "      <td>14613.333391</td>\n",
       "      <td>8.275263e+11</td>\n",
       "      <td>61568.0</td>\n",
       "      <td>57320000.0</td>\n",
       "      <td>0.972982</td>\n",
       "      <td>0.967592</td>\n",
       "      <td>3.240774</td>\n",
       "    </tr>\n",
       "    <tr>\n",
       "      <th>2021-08-31 09:00:00</th>\n",
       "      <td>55800000.0</td>\n",
       "      <td>56333000.0</td>\n",
       "      <td>55022000.0</td>\n",
       "      <td>55230000.0</td>\n",
       "      <td>11075.546983</td>\n",
       "      <td>6.165163e+11</td>\n",
       "      <td>41952.0</td>\n",
       "      <td>55861568.0</td>\n",
       "      <td>0.988194</td>\n",
       "      <td>0.956169</td>\n",
       "      <td>4.383109</td>\n",
       "    </tr>\n",
       "    <tr>\n",
       "      <th>...</th>\n",
       "      <td>...</td>\n",
       "      <td>...</td>\n",
       "      <td>...</td>\n",
       "      <td>...</td>\n",
       "      <td>...</td>\n",
       "      <td>...</td>\n",
       "      <td>...</td>\n",
       "      <td>...</td>\n",
       "      <td>...</td>\n",
       "      <td>...</td>\n",
       "      <td>...</td>\n",
       "    </tr>\n",
       "    <tr>\n",
       "      <th>2022-04-09 09:00:00</th>\n",
       "      <td>52934000.0</td>\n",
       "      <td>53355000.0</td>\n",
       "      <td>52754000.0</td>\n",
       "      <td>53258000.0</td>\n",
       "      <td>2253.816753</td>\n",
       "      <td>1.195229e+11</td>\n",
       "      <td>19232.0</td>\n",
       "      <td>52994864.0</td>\n",
       "      <td>1.004465</td>\n",
       "      <td>0.855723</td>\n",
       "      <td>31.840946</td>\n",
       "    </tr>\n",
       "    <tr>\n",
       "      <th>2022-04-10 09:00:00</th>\n",
       "      <td>53295000.0</td>\n",
       "      <td>53950000.0</td>\n",
       "      <td>52462000.0</td>\n",
       "      <td>52819000.0</td>\n",
       "      <td>2289.320776</td>\n",
       "      <td>1.217211e+11</td>\n",
       "      <td>47616.0</td>\n",
       "      <td>53314232.0</td>\n",
       "      <td>0.990211</td>\n",
       "      <td>0.847347</td>\n",
       "      <td>32.508150</td>\n",
       "    </tr>\n",
       "    <tr>\n",
       "      <th>2022-04-11 09:00:00</th>\n",
       "      <td>52799000.0</td>\n",
       "      <td>53060000.0</td>\n",
       "      <td>50010000.0</td>\n",
       "      <td>50050000.0</td>\n",
       "      <td>5382.926050</td>\n",
       "      <td>2.779839e+11</td>\n",
       "      <td>97600.0</td>\n",
       "      <td>52846616.0</td>\n",
       "      <td>0.946581</td>\n",
       "      <td>0.802082</td>\n",
       "      <td>36.113530</td>\n",
       "    </tr>\n",
       "    <tr>\n",
       "      <th>2022-04-12 09:00:00</th>\n",
       "      <td>50050000.0</td>\n",
       "      <td>51195000.0</td>\n",
       "      <td>49608000.0</td>\n",
       "      <td>50577000.0</td>\n",
       "      <td>4730.164656</td>\n",
       "      <td>2.381793e+11</td>\n",
       "      <td>50784.0</td>\n",
       "      <td>50147600.0</td>\n",
       "      <td>1.008063</td>\n",
       "      <td>0.808549</td>\n",
       "      <td>35.598431</td>\n",
       "    </tr>\n",
       "    <tr>\n",
       "      <th>2022-04-13 09:00:00</th>\n",
       "      <td>50577000.0</td>\n",
       "      <td>50615000.0</td>\n",
       "      <td>49936000.0</td>\n",
       "      <td>50360000.0</td>\n",
       "      <td>854.427541</td>\n",
       "      <td>4.300403e+10</td>\n",
       "      <td>21728.0</td>\n",
       "      <td>50627784.0</td>\n",
       "      <td>1.000000</td>\n",
       "      <td>0.808549</td>\n",
       "      <td>35.598431</td>\n",
       "    </tr>\n",
       "  </tbody>\n",
       "</table>\n",
       "<p>230 rows × 11 columns</p>\n",
       "</div>"
      ],
      "text/plain": [
       "                           open        high         low       close  \\\n",
       "2021-08-27 09:00:00  55255000.0  57600000.0  54616000.0  57401000.0   \n",
       "2021-08-28 09:00:00  57400000.0  57885000.0  56704000.0  57428000.0   \n",
       "2021-08-29 09:00:00  57428000.0  58000000.0  56500000.0  57272000.0   \n",
       "2021-08-30 09:00:00  57272000.0  57479000.0  55555000.0  55800000.0   \n",
       "2021-08-31 09:00:00  55800000.0  56333000.0  55022000.0  55230000.0   \n",
       "...                         ...         ...         ...         ...   \n",
       "2022-04-09 09:00:00  52934000.0  53355000.0  52754000.0  53258000.0   \n",
       "2022-04-10 09:00:00  53295000.0  53950000.0  52462000.0  52819000.0   \n",
       "2022-04-11 09:00:00  52799000.0  53060000.0  50010000.0  50050000.0   \n",
       "2022-04-12 09:00:00  50050000.0  51195000.0  49608000.0  50577000.0   \n",
       "2022-04-13 09:00:00  50577000.0  50615000.0  49936000.0  50360000.0   \n",
       "\n",
       "                           volume         value    range      target  \\\n",
       "2021-08-27 09:00:00   8324.331968  4.660757e+11  95488.0         NaN   \n",
       "2021-08-28 09:00:00   5552.262749  3.186951e+11  37792.0  57495488.0   \n",
       "2021-08-29 09:00:00  11623.618673  6.647657e+11  48000.0  57465792.0   \n",
       "2021-08-30 09:00:00  14613.333391  8.275263e+11  61568.0  57320000.0   \n",
       "2021-08-31 09:00:00  11075.546983  6.165163e+11  41952.0  55861568.0   \n",
       "...                           ...           ...      ...         ...   \n",
       "2022-04-09 09:00:00   2253.816753  1.195229e+11  19232.0  52994864.0   \n",
       "2022-04-10 09:00:00   2289.320776  1.217211e+11  47616.0  53314232.0   \n",
       "2022-04-11 09:00:00   5382.926050  2.779839e+11  97600.0  52846616.0   \n",
       "2022-04-12 09:00:00   4730.164656  2.381793e+11  50784.0  50147600.0   \n",
       "2022-04-13 09:00:00    854.427541  4.300403e+10  21728.0  50627784.0   \n",
       "\n",
       "                          ror       hpr         dd  \n",
       "2021-08-27 09:00:00  1.000000  1.000000   0.000000  \n",
       "2021-08-28 09:00:00  0.998326  0.998326   0.167380  \n",
       "2021-08-29 09:00:00  0.996128  0.994460   0.553962  \n",
       "2021-08-30 09:00:00  0.972982  0.967592   3.240774  \n",
       "2021-08-31 09:00:00  0.988194  0.956169   4.383109  \n",
       "...                       ...       ...        ...  \n",
       "2022-04-09 09:00:00  1.004465  0.855723  31.840946  \n",
       "2022-04-10 09:00:00  0.990211  0.847347  32.508150  \n",
       "2022-04-11 09:00:00  0.946581  0.802082  36.113530  \n",
       "2022-04-12 09:00:00  1.008063  0.808549  35.598431  \n",
       "2022-04-13 09:00:00  1.000000  0.808549  35.598431  \n",
       "\n",
       "[230 rows x 11 columns]"
      ]
     },
     "execution_count": 6,
     "metadata": {},
     "output_type": "execute_result"
    }
   ],
   "source": [
    "# Draw Down 계산. (누적 최대 값과 현재 hpr 차이/ 누적 최대값*100)\n",
    "df['dd'] = (df['hpr'].cummax() - df['hpr']) / df['hpr'].cummax() *100\n",
    "df"
   ]
  },
  {
   "cell_type": "code",
   "execution_count": 7,
   "id": "b98ee233",
   "metadata": {},
   "outputs": [
    {
     "name": "stdout",
     "output_type": "stream",
     "text": [
      "MDD(%): 43.5592132976547\n"
     ]
    }
   ],
   "source": [
    "print(f\"MDD(%): {df['dd'].max()}\") "
   ]
  },
  {
   "cell_type": "code",
   "execution_count": 8,
   "id": "85002b51",
   "metadata": {},
   "outputs": [
    {
     "data": {
      "text/plain": [
       "0.8085489060505305"
      ]
     },
     "execution_count": 8,
     "metadata": {},
     "output_type": "execute_result"
    }
   ],
   "source": [
    "df['hpr'][-1]"
   ]
  },
  {
   "cell_type": "markdown",
   "id": "13f9e979",
   "metadata": {},
   "source": [
    "# Back testing function"
   ]
  },
  {
   "cell_type": "code",
   "execution_count": 19,
   "id": "508ca160",
   "metadata": {},
   "outputs": [],
   "source": [
    "def back_testing(coin_type, k_value, term, prt:bool=False):\n",
    "    time.sleep(0.1) # Redundant\n",
    "    try:\n",
    "        df = pyupbit.get_ohlcv(coin_type, count=term) # Redundant\n",
    "        df['range'] = (df['high'] - df['low']) * k_value\n",
    "        df['target'] = df['open'] + df['range'].shift(1) \n",
    "\n",
    "        fee = 0.0032\n",
    "        df['ror'] = np.where(df['high'] > df['target'], df['close']/df['target'] - fee, 1)\n",
    "\n",
    "        df['hpr'] = df['ror'].cumprod()\n",
    "        df['dd'] = (df['hpr'].cummax() - df['hpr']) / df['hpr'].cummax() * 100\n",
    "\n",
    "        pct = df['hpr'][-1]\n",
    "        profit = round(pct-1, 5) * 100\n",
    "\n",
    "        if (prt):\n",
    "            print_str = f\"{coin_type} {term}일간 수익률: {profit}%, MDD: {df['dd'].max()}\"\n",
    "            print(print_str)\n",
    "\n",
    "    except Exception as e:\n",
    "        print(e)\n",
    "        time.sleep(0.1)\n",
    "        return 7210, 7210\n",
    "    \n",
    "    return profit, df['dd'].max()"
   ]
  },
  {
   "cell_type": "code",
   "execution_count": 10,
   "id": "bc956bfa",
   "metadata": {},
   "outputs": [
    {
     "name": "stdout",
     "output_type": "stream",
     "text": [
      "KRW-ETH 60일간 수익률: -5.888%, MDD: 21.042627394966953\n"
     ]
    },
    {
     "data": {
      "text/plain": [
       "(-5.888, 21.042627394966953)"
      ]
     },
     "execution_count": 10,
     "metadata": {},
     "output_type": "execute_result"
    }
   ],
   "source": [
    "back_testing(\"KRW-ETH\", 0.0032, 60, True)"
   ]
  },
  {
   "cell_type": "code",
   "execution_count": 11,
   "id": "bbf95fbe",
   "metadata": {},
   "outputs": [
    {
     "name": "stdout",
     "output_type": "stream",
     "text": [
      "KRW-ETH 60일간 수익률: -16.115%, MDD: 20.278313895826894\n"
     ]
    },
    {
     "data": {
      "text/plain": [
       "(-16.115, 20.278313895826894)"
      ]
     },
     "execution_count": 11,
     "metadata": {},
     "output_type": "execute_result"
    }
   ],
   "source": [
    "back_testing(\"KRW-ETH\", 0.451, 60, True)"
   ]
  },
  {
   "cell_type": "code",
   "execution_count": 12,
   "id": "49d116d8",
   "metadata": {},
   "outputs": [
    {
     "name": "stdout",
     "output_type": "stream",
     "text": [
      "KRW-BTC 60일간 수익률: -14.75%, MDD: 18.62600516062338\n"
     ]
    },
    {
     "data": {
      "text/plain": [
       "(-14.75, 18.62600516062338)"
      ]
     },
     "execution_count": 12,
     "metadata": {},
     "output_type": "execute_result"
    }
   ],
   "source": [
    "back_testing(\"KRW-BTC\", 0.0032, 60, True)"
   ]
  },
  {
   "cell_type": "code",
   "execution_count": 13,
   "id": "85067bc9",
   "metadata": {},
   "outputs": [
    {
     "name": "stdout",
     "output_type": "stream",
     "text": [
      "KRW-BTC 60일간 수익률: 5.373%, MDD: 9.090997560744995\n"
     ]
    },
    {
     "data": {
      "text/plain": [
       "(5.373, 9.090997560744995)"
      ]
     },
     "execution_count": 13,
     "metadata": {},
     "output_type": "execute_result"
    }
   ],
   "source": [
    "back_testing(\"KRW-BTC\", 0.451, 60, True)"
   ]
  },
  {
   "cell_type": "markdown",
   "id": "df17a85d",
   "metadata": {},
   "source": [
    "# Finding Hyper parameter"
   ]
  },
  {
   "cell_type": "code",
   "execution_count": 14,
   "id": "6f126a2f",
   "metadata": {},
   "outputs": [],
   "source": [
    "def find_hyper_k(coin_type, term):\n",
    "    # k value의 최적값을 찾기 위해 backtesting하며 수익률을 확인한다.\n",
    "    df = pd.DataFrame([[0,0,0]], columns=['수익률', 'MDD%', 'k-value'])\n",
    "\n",
    "    for i in tqdm(np.arange(0, 0.5, 0.001), desc='Progress', mininterval=0.1):\n",
    "        profit, mdd = back_testing(coin_type, i, term, False)\n",
    "\n",
    "        max_profit = df['수익률'].max()\n",
    "        if profit >= max_profit:\n",
    "            df = df.append(pd.Series([profit, mdd, i], index=df.columns), ignore_index=True)\n",
    "\n",
    "    filter = df['수익률'] == df['수익률'].max()\n",
    "    hyper_k = df[filter].iloc[0,2]\n",
    "    \n",
    "    return hyper_k:"
   ]
  },
  {
   "cell_type": "code",
   "execution_count": 15,
   "id": "f54d1956",
   "metadata": {},
   "outputs": [
    {
     "ename": "KeyError",
     "evalue": "'수익률'",
     "output_type": "error",
     "traceback": [
      "\u001b[0;31m---------------------------------------------------------------------------\u001b[0m",
      "\u001b[0;31mKeyError\u001b[0m                                  Traceback (most recent call last)",
      "File \u001b[0;32m~/anaconda3/envs/CoinATS/lib/python3.8/site-packages/pandas/core/indexes/base.py:3621\u001b[0m, in \u001b[0;36mIndex.get_loc\u001b[0;34m(self, key, method, tolerance)\u001b[0m\n\u001b[1;32m   3620\u001b[0m \u001b[38;5;28;01mtry\u001b[39;00m:\n\u001b[0;32m-> 3621\u001b[0m     \u001b[38;5;28;01mreturn\u001b[39;00m \u001b[38;5;28;43mself\u001b[39;49m\u001b[38;5;241;43m.\u001b[39;49m\u001b[43m_engine\u001b[49m\u001b[38;5;241;43m.\u001b[39;49m\u001b[43mget_loc\u001b[49m\u001b[43m(\u001b[49m\u001b[43mcasted_key\u001b[49m\u001b[43m)\u001b[49m\n\u001b[1;32m   3622\u001b[0m \u001b[38;5;28;01mexcept\u001b[39;00m \u001b[38;5;167;01mKeyError\u001b[39;00m \u001b[38;5;28;01mas\u001b[39;00m err:\n",
      "File \u001b[0;32m~/anaconda3/envs/CoinATS/lib/python3.8/site-packages/pandas/_libs/index.pyx:136\u001b[0m, in \u001b[0;36mpandas._libs.index.IndexEngine.get_loc\u001b[0;34m()\u001b[0m\n",
      "File \u001b[0;32m~/anaconda3/envs/CoinATS/lib/python3.8/site-packages/pandas/_libs/index.pyx:163\u001b[0m, in \u001b[0;36mpandas._libs.index.IndexEngine.get_loc\u001b[0;34m()\u001b[0m\n",
      "File \u001b[0;32mpandas/_libs/hashtable_class_helper.pxi:5198\u001b[0m, in \u001b[0;36mpandas._libs.hashtable.PyObjectHashTable.get_item\u001b[0;34m()\u001b[0m\n",
      "File \u001b[0;32mpandas/_libs/hashtable_class_helper.pxi:5206\u001b[0m, in \u001b[0;36mpandas._libs.hashtable.PyObjectHashTable.get_item\u001b[0;34m()\u001b[0m\n",
      "\u001b[0;31mKeyError\u001b[0m: '수익률'",
      "\nThe above exception was the direct cause of the following exception:\n",
      "\u001b[0;31mKeyError\u001b[0m                                  Traceback (most recent call last)",
      "Input \u001b[0;32mIn [15]\u001b[0m, in \u001b[0;36m<cell line: 1>\u001b[0;34m()\u001b[0m\n\u001b[0;32m----> 1\u001b[0m \u001b[38;5;28mfilter\u001b[39m \u001b[38;5;241m=\u001b[39m \u001b[43mdf\u001b[49m\u001b[43m[\u001b[49m\u001b[38;5;124;43m'\u001b[39;49m\u001b[38;5;124;43m수익률\u001b[39;49m\u001b[38;5;124;43m'\u001b[39;49m\u001b[43m]\u001b[49m \u001b[38;5;241m==\u001b[39m df[\u001b[38;5;124m'\u001b[39m\u001b[38;5;124m수익률\u001b[39m\u001b[38;5;124m'\u001b[39m]\u001b[38;5;241m.\u001b[39mmax()\n\u001b[1;32m      2\u001b[0m df[\u001b[38;5;28mfilter\u001b[39m]\n",
      "File \u001b[0;32m~/anaconda3/envs/CoinATS/lib/python3.8/site-packages/pandas/core/frame.py:3505\u001b[0m, in \u001b[0;36mDataFrame.__getitem__\u001b[0;34m(self, key)\u001b[0m\n\u001b[1;32m   3503\u001b[0m \u001b[38;5;28;01mif\u001b[39;00m \u001b[38;5;28mself\u001b[39m\u001b[38;5;241m.\u001b[39mcolumns\u001b[38;5;241m.\u001b[39mnlevels \u001b[38;5;241m>\u001b[39m \u001b[38;5;241m1\u001b[39m:\n\u001b[1;32m   3504\u001b[0m     \u001b[38;5;28;01mreturn\u001b[39;00m \u001b[38;5;28mself\u001b[39m\u001b[38;5;241m.\u001b[39m_getitem_multilevel(key)\n\u001b[0;32m-> 3505\u001b[0m indexer \u001b[38;5;241m=\u001b[39m \u001b[38;5;28;43mself\u001b[39;49m\u001b[38;5;241;43m.\u001b[39;49m\u001b[43mcolumns\u001b[49m\u001b[38;5;241;43m.\u001b[39;49m\u001b[43mget_loc\u001b[49m\u001b[43m(\u001b[49m\u001b[43mkey\u001b[49m\u001b[43m)\u001b[49m\n\u001b[1;32m   3506\u001b[0m \u001b[38;5;28;01mif\u001b[39;00m is_integer(indexer):\n\u001b[1;32m   3507\u001b[0m     indexer \u001b[38;5;241m=\u001b[39m [indexer]\n",
      "File \u001b[0;32m~/anaconda3/envs/CoinATS/lib/python3.8/site-packages/pandas/core/indexes/base.py:3623\u001b[0m, in \u001b[0;36mIndex.get_loc\u001b[0;34m(self, key, method, tolerance)\u001b[0m\n\u001b[1;32m   3621\u001b[0m     \u001b[38;5;28;01mreturn\u001b[39;00m \u001b[38;5;28mself\u001b[39m\u001b[38;5;241m.\u001b[39m_engine\u001b[38;5;241m.\u001b[39mget_loc(casted_key)\n\u001b[1;32m   3622\u001b[0m \u001b[38;5;28;01mexcept\u001b[39;00m \u001b[38;5;167;01mKeyError\u001b[39;00m \u001b[38;5;28;01mas\u001b[39;00m err:\n\u001b[0;32m-> 3623\u001b[0m     \u001b[38;5;28;01mraise\u001b[39;00m \u001b[38;5;167;01mKeyError\u001b[39;00m(key) \u001b[38;5;28;01mfrom\u001b[39;00m \u001b[38;5;21;01merr\u001b[39;00m\n\u001b[1;32m   3624\u001b[0m \u001b[38;5;28;01mexcept\u001b[39;00m \u001b[38;5;167;01mTypeError\u001b[39;00m:\n\u001b[1;32m   3625\u001b[0m     \u001b[38;5;66;03m# If we have a listlike key, _check_indexing_error will raise\u001b[39;00m\n\u001b[1;32m   3626\u001b[0m     \u001b[38;5;66;03m#  InvalidIndexError. Otherwise we fall through and re-raise\u001b[39;00m\n\u001b[1;32m   3627\u001b[0m     \u001b[38;5;66;03m#  the TypeError.\u001b[39;00m\n\u001b[1;32m   3628\u001b[0m     \u001b[38;5;28mself\u001b[39m\u001b[38;5;241m.\u001b[39m_check_indexing_error(key)\n",
      "\u001b[0;31mKeyError\u001b[0m: '수익률'"
     ]
    }
   ],
   "source": [
    "filter = df['수익률'] == df['수익률'].max()\n",
    "df[filter]"
   ]
  },
  {
   "cell_type": "code",
   "execution_count": null,
   "id": "4bde7daa",
   "metadata": {},
   "outputs": [],
   "source": [
    "filt2 = df['수익률'] == 7210\n",
    "df[filt2]"
   ]
  },
  {
   "cell_type": "code",
   "execution_count": null,
   "id": "7f9efe32",
   "metadata": {},
   "outputs": [],
   "source": [
    "df"
   ]
  },
  {
   "cell_type": "code",
   "execution_count": 22,
   "id": "e0adc9cd",
   "metadata": {},
   "outputs": [
    {
     "name": "stderr",
     "output_type": "stream",
     "text": [
      "Progress: 100%|██████████| 500/500 [01:34<00:00,  5.28it/s]\n"
     ]
    },
    {
     "data": {
      "text/plain": [
       "0.048"
      ]
     },
     "execution_count": 22,
     "metadata": {},
     "output_type": "execute_result"
    }
   ],
   "source": [
    "find_hyper_k(\"KRW-NEAR\", 11)"
   ]
  },
  {
   "cell_type": "code",
   "execution_count": null,
   "id": "531eb9e1",
   "metadata": {},
   "outputs": [],
   "source": [
    "df"
   ]
  },
  {
   "cell_type": "code",
   "execution_count": 20,
   "id": "0126faab",
   "metadata": {},
   "outputs": [
    {
     "name": "stderr",
     "output_type": "stream",
     "text": [
      "Progress: 100%|██████████| 500/500 [01:32<00:00,  5.38it/s]\n"
     ]
    }
   ],
   "source": [
    "# k value의 최적값을 찾기 위해 backtesting하며 수익률을 확인한다.\n",
    "df = pd.DataFrame([[0,0,0]], columns=['수익률', 'MDD%', 'k-value'])\n",
    "\n",
    "for i in tqdm(np.arange(0, 0.5, 0.001), desc='Progress', mininterval=0.1):\n",
    "    profit, mdd = back_testing(\"KRW-KNC\", i, 14, False)\n",
    "\n",
    "    max_profit = df['수익률'].max()\n",
    "    if profit >= max_profit:\n",
    "        df = df.append(pd.Series([profit, mdd, i], index=df.columns), ignore_index=True)\n",
    "filter = df['수익률'] == df['수익률'].max()\n",
    "hyper_k = df[filter].iloc[0,2]"
   ]
  },
  {
   "cell_type": "code",
   "execution_count": 21,
   "id": "16a84601",
   "metadata": {},
   "outputs": [
    {
     "data": {
      "text/html": [
       "<div>\n",
       "<style scoped>\n",
       "    .dataframe tbody tr th:only-of-type {\n",
       "        vertical-align: middle;\n",
       "    }\n",
       "\n",
       "    .dataframe tbody tr th {\n",
       "        vertical-align: top;\n",
       "    }\n",
       "\n",
       "    .dataframe thead th {\n",
       "        text-align: right;\n",
       "    }\n",
       "</style>\n",
       "<table border=\"1\" class=\"dataframe\">\n",
       "  <thead>\n",
       "    <tr style=\"text-align: right;\">\n",
       "      <th></th>\n",
       "      <th>수익률</th>\n",
       "      <th>MDD%</th>\n",
       "      <th>k-value</th>\n",
       "    </tr>\n",
       "  </thead>\n",
       "  <tbody>\n",
       "    <tr>\n",
       "      <th>1</th>\n",
       "      <td>15.04</td>\n",
       "      <td>9.019347</td>\n",
       "      <td>0.0</td>\n",
       "    </tr>\n",
       "  </tbody>\n",
       "</table>\n",
       "</div>"
      ],
      "text/plain": [
       "     수익률      MDD%  k-value\n",
       "1  15.04  9.019347      0.0"
      ]
     },
     "execution_count": 21,
     "metadata": {},
     "output_type": "execute_result"
    }
   ],
   "source": [
    "filter = df['수익률'] == df['수익률'].max()\n",
    "df[filter]"
   ]
  },
  {
   "cell_type": "code",
   "execution_count": null,
   "id": "b363320f",
   "metadata": {},
   "outputs": [],
   "source": []
  }
 ],
 "metadata": {
  "kernelspec": {
   "display_name": "CoinATS",
   "language": "python",
   "name": "coinats"
  },
  "language_info": {
   "codemirror_mode": {
    "name": "ipython",
    "version": 3
   },
   "file_extension": ".py",
   "mimetype": "text/x-python",
   "name": "python",
   "nbconvert_exporter": "python",
   "pygments_lexer": "ipython3",
   "version": "3.8.13"
  }
 },
 "nbformat": 4,
 "nbformat_minor": 5
}
