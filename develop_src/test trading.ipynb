{
 "cells": [
  {
   "cell_type": "code",
   "execution_count": 1,
   "id": "259e4b53",
   "metadata": {},
   "outputs": [],
   "source": [
    "import pyupbit"
   ]
  },
  {
   "cell_type": "code",
   "execution_count": null,
   "id": "51ee1ddd",
   "metadata": {},
   "outputs": [
    {
     "data": {
      "text/html": [
       "<div>\n",
       "<style scoped>\n",
       "    .dataframe tbody tr th:only-of-type {\n",
       "        vertical-align: middle;\n",
       "    }\n",
       "\n",
       "    .dataframe tbody tr th {\n",
       "        vertical-align: top;\n",
       "    }\n",
       "\n",
       "    .dataframe thead th {\n",
       "        text-align: right;\n",
       "    }\n",
       "</style>\n",
       "<table border=\"1\" class=\"dataframe\">\n",
       "  <thead>\n",
       "    <tr style=\"text-align: right;\">\n",
       "      <th></th>\n",
       "      <th>open</th>\n",
       "      <th>high</th>\n",
       "      <th>low</th>\n",
       "      <th>close</th>\n",
       "      <th>volume</th>\n",
       "      <th>value</th>\n",
       "    </tr>\n",
       "  </thead>\n",
       "  <tbody>\n",
       "    <tr>\n",
       "      <th>2017-09-25 09:00:00</th>\n",
       "      <td>4201000.0</td>\n",
       "      <td>4333000.0</td>\n",
       "      <td>4175000.0</td>\n",
       "      <td>4322000.0</td>\n",
       "      <td>132.484755</td>\n",
       "      <td>5.602146e+08</td>\n",
       "    </tr>\n",
       "    <tr>\n",
       "      <th>2017-09-26 09:00:00</th>\n",
       "      <td>4317000.0</td>\n",
       "      <td>4418000.0</td>\n",
       "      <td>4311000.0</td>\n",
       "      <td>4321000.0</td>\n",
       "      <td>22.788340</td>\n",
       "      <td>9.950724e+07</td>\n",
       "    </tr>\n",
       "    <tr>\n",
       "      <th>2017-09-27 09:00:00</th>\n",
       "      <td>4322000.0</td>\n",
       "      <td>4677000.0</td>\n",
       "      <td>4318000.0</td>\n",
       "      <td>4657000.0</td>\n",
       "      <td>32.269662</td>\n",
       "      <td>1.448276e+08</td>\n",
       "    </tr>\n",
       "    <tr>\n",
       "      <th>2017-09-28 09:00:00</th>\n",
       "      <td>4657000.0</td>\n",
       "      <td>4772000.0</td>\n",
       "      <td>4519000.0</td>\n",
       "      <td>4586000.0</td>\n",
       "      <td>80.588243</td>\n",
       "      <td>3.721860e+08</td>\n",
       "    </tr>\n",
       "    <tr>\n",
       "      <th>2017-09-29 09:00:00</th>\n",
       "      <td>4586000.0</td>\n",
       "      <td>4709000.0</td>\n",
       "      <td>4476000.0</td>\n",
       "      <td>4657000.0</td>\n",
       "      <td>59.352373</td>\n",
       "      <td>2.724558e+08</td>\n",
       "    </tr>\n",
       "    <tr>\n",
       "      <th>...</th>\n",
       "      <td>...</td>\n",
       "      <td>...</td>\n",
       "      <td>...</td>\n",
       "      <td>...</td>\n",
       "      <td>...</td>\n",
       "      <td>...</td>\n",
       "    </tr>\n",
       "    <tr>\n",
       "      <th>2022-04-09 09:00:00</th>\n",
       "      <td>52934000.0</td>\n",
       "      <td>53355000.0</td>\n",
       "      <td>52754000.0</td>\n",
       "      <td>53258000.0</td>\n",
       "      <td>2253.816753</td>\n",
       "      <td>1.195229e+11</td>\n",
       "    </tr>\n",
       "    <tr>\n",
       "      <th>2022-04-10 09:00:00</th>\n",
       "      <td>53295000.0</td>\n",
       "      <td>53950000.0</td>\n",
       "      <td>52462000.0</td>\n",
       "      <td>52819000.0</td>\n",
       "      <td>2289.320776</td>\n",
       "      <td>1.217211e+11</td>\n",
       "    </tr>\n",
       "    <tr>\n",
       "      <th>2022-04-11 09:00:00</th>\n",
       "      <td>52799000.0</td>\n",
       "      <td>53060000.0</td>\n",
       "      <td>50010000.0</td>\n",
       "      <td>50050000.0</td>\n",
       "      <td>5382.926050</td>\n",
       "      <td>2.779839e+11</td>\n",
       "    </tr>\n",
       "    <tr>\n",
       "      <th>2022-04-12 09:00:00</th>\n",
       "      <td>50050000.0</td>\n",
       "      <td>51195000.0</td>\n",
       "      <td>49608000.0</td>\n",
       "      <td>50577000.0</td>\n",
       "      <td>4730.164656</td>\n",
       "      <td>2.381793e+11</td>\n",
       "    </tr>\n",
       "    <tr>\n",
       "      <th>2022-04-13 09:00:00</th>\n",
       "      <td>50577000.0</td>\n",
       "      <td>50615000.0</td>\n",
       "      <td>49936000.0</td>\n",
       "      <td>50348000.0</td>\n",
       "      <td>870.212845</td>\n",
       "      <td>4.379863e+10</td>\n",
       "    </tr>\n",
       "  </tbody>\n",
       "</table>\n",
       "<p>1662 rows × 6 columns</p>\n",
       "</div>"
      ],
      "text/plain": [
       "                           open        high         low       close  \\\n",
       "2017-09-25 09:00:00   4201000.0   4333000.0   4175000.0   4322000.0   \n",
       "2017-09-26 09:00:00   4317000.0   4418000.0   4311000.0   4321000.0   \n",
       "2017-09-27 09:00:00   4322000.0   4677000.0   4318000.0   4657000.0   \n",
       "2017-09-28 09:00:00   4657000.0   4772000.0   4519000.0   4586000.0   \n",
       "2017-09-29 09:00:00   4586000.0   4709000.0   4476000.0   4657000.0   \n",
       "...                         ...         ...         ...         ...   \n",
       "2022-04-09 09:00:00  52934000.0  53355000.0  52754000.0  53258000.0   \n",
       "2022-04-10 09:00:00  53295000.0  53950000.0  52462000.0  52819000.0   \n",
       "2022-04-11 09:00:00  52799000.0  53060000.0  50010000.0  50050000.0   \n",
       "2022-04-12 09:00:00  50050000.0  51195000.0  49608000.0  50577000.0   \n",
       "2022-04-13 09:00:00  50577000.0  50615000.0  49936000.0  50348000.0   \n",
       "\n",
       "                          volume         value  \n",
       "2017-09-25 09:00:00   132.484755  5.602146e+08  \n",
       "2017-09-26 09:00:00    22.788340  9.950724e+07  \n",
       "2017-09-27 09:00:00    32.269662  1.448276e+08  \n",
       "2017-09-28 09:00:00    80.588243  3.721860e+08  \n",
       "2017-09-29 09:00:00    59.352373  2.724558e+08  \n",
       "...                          ...           ...  \n",
       "2022-04-09 09:00:00  2253.816753  1.195229e+11  \n",
       "2022-04-10 09:00:00  2289.320776  1.217211e+11  \n",
       "2022-04-11 09:00:00  5382.926050  2.779839e+11  \n",
       "2022-04-12 09:00:00  4730.164656  2.381793e+11  \n",
       "2022-04-13 09:00:00   870.212845  4.379863e+10  \n",
       "\n",
       "[1662 rows x 6 columns]"
      ]
     },
     "execution_count": 2,
     "metadata": {},
     "output_type": "execute_result"
    }
   ],
   "source": [
    "# BTC 최근 200시간의 data load\n",
    "df = pyupbit.get_ohlcv(\"KRW-BTC\", count=10000)\n",
    "df\n"
   ]
  },
  {
   "cell_type": "code",
   "execution_count": null,
   "id": "173a2d1c",
   "metadata": {},
   "outputs": [
    {
     "data": {
      "text/html": [
       "<div>\n",
       "<style scoped>\n",
       "    .dataframe tbody tr th:only-of-type {\n",
       "        vertical-align: middle;\n",
       "    }\n",
       "\n",
       "    .dataframe tbody tr th {\n",
       "        vertical-align: top;\n",
       "    }\n",
       "\n",
       "    .dataframe thead th {\n",
       "        text-align: right;\n",
       "    }\n",
       "</style>\n",
       "<table border=\"1\" class=\"dataframe\">\n",
       "  <thead>\n",
       "    <tr style=\"text-align: right;\">\n",
       "      <th></th>\n",
       "      <th>ds</th>\n",
       "      <th>y</th>\n",
       "    </tr>\n",
       "  </thead>\n",
       "  <tbody>\n",
       "    <tr>\n",
       "      <th>0</th>\n",
       "      <td>2017-09-25 09:00:00</td>\n",
       "      <td>4322000.0</td>\n",
       "    </tr>\n",
       "    <tr>\n",
       "      <th>1</th>\n",
       "      <td>2017-09-26 09:00:00</td>\n",
       "      <td>4321000.0</td>\n",
       "    </tr>\n",
       "    <tr>\n",
       "      <th>2</th>\n",
       "      <td>2017-09-27 09:00:00</td>\n",
       "      <td>4657000.0</td>\n",
       "    </tr>\n",
       "    <tr>\n",
       "      <th>3</th>\n",
       "      <td>2017-09-28 09:00:00</td>\n",
       "      <td>4586000.0</td>\n",
       "    </tr>\n",
       "    <tr>\n",
       "      <th>4</th>\n",
       "      <td>2017-09-29 09:00:00</td>\n",
       "      <td>4657000.0</td>\n",
       "    </tr>\n",
       "    <tr>\n",
       "      <th>...</th>\n",
       "      <td>...</td>\n",
       "      <td>...</td>\n",
       "    </tr>\n",
       "    <tr>\n",
       "      <th>1657</th>\n",
       "      <td>2022-04-09 09:00:00</td>\n",
       "      <td>53258000.0</td>\n",
       "    </tr>\n",
       "    <tr>\n",
       "      <th>1658</th>\n",
       "      <td>2022-04-10 09:00:00</td>\n",
       "      <td>52819000.0</td>\n",
       "    </tr>\n",
       "    <tr>\n",
       "      <th>1659</th>\n",
       "      <td>2022-04-11 09:00:00</td>\n",
       "      <td>50050000.0</td>\n",
       "    </tr>\n",
       "    <tr>\n",
       "      <th>1660</th>\n",
       "      <td>2022-04-12 09:00:00</td>\n",
       "      <td>50577000.0</td>\n",
       "    </tr>\n",
       "    <tr>\n",
       "      <th>1661</th>\n",
       "      <td>2022-04-13 09:00:00</td>\n",
       "      <td>50348000.0</td>\n",
       "    </tr>\n",
       "  </tbody>\n",
       "</table>\n",
       "<p>1662 rows × 2 columns</p>\n",
       "</div>"
      ],
      "text/plain": [
       "                      ds           y\n",
       "0    2017-09-25 09:00:00   4322000.0\n",
       "1    2017-09-26 09:00:00   4321000.0\n",
       "2    2017-09-27 09:00:00   4657000.0\n",
       "3    2017-09-28 09:00:00   4586000.0\n",
       "4    2017-09-29 09:00:00   4657000.0\n",
       "...                  ...         ...\n",
       "1657 2022-04-09 09:00:00  53258000.0\n",
       "1658 2022-04-10 09:00:00  52819000.0\n",
       "1659 2022-04-11 09:00:00  50050000.0\n",
       "1660 2022-04-12 09:00:00  50577000.0\n",
       "1661 2022-04-13 09:00:00  50348000.0\n",
       "\n",
       "[1662 rows x 2 columns]"
      ]
     },
     "execution_count": 3,
     "metadata": {},
     "output_type": "execute_result"
    }
   ],
   "source": [
    "# 시간(ds)과 종가(y)값만 남긴다\n",
    "df = df.reset_index()\n",
    "df['ds'] = df['index']\n",
    "df['y'] = df['close']\n",
    "data = df[['ds','y']]\n",
    "data"
   ]
  },
  {
   "cell_type": "code",
   "execution_count": null,
   "id": "be79d357",
   "metadata": {},
   "outputs": [
    {
     "name": "stderr",
     "output_type": "stream",
     "text": [
      "Importing plotly failed. Interactive plots will not work.\n"
     ]
    }
   ],
   "source": [
    "# prophet 불러 옴\n",
    "from fbprophet import Prophet"
   ]
  },
  {
   "cell_type": "code",
   "execution_count": null,
   "id": "ccaf6999",
   "metadata": {},
   "outputs": [
    {
     "name": "stderr",
     "output_type": "stream",
     "text": [
      "INFO:numexpr.utils:NumExpr defaulting to 8 threads.\n",
      "INFO:numexpr.utils:NumExpr defaulting to 8 threads.\n",
      "INFO:fbprophet:Disabling daily seasonality. Run prophet with daily_seasonality=True to override this.\n",
      "INFO:fbprophet:Disabling daily seasonality. Run prophet with daily_seasonality=True to override this.\n"
     ]
    },
    {
     "ename": "KeyError",
     "evalue": "'metric_file'",
     "output_type": "error",
     "traceback": [
      "\u001b[0;31m---------------------------------------------------------------------------\u001b[0m",
      "\u001b[0;31mKeyError\u001b[0m                                  Traceback (most recent call last)",
      "\u001b[0;31mKeyError\u001b[0m: 'metric_file'"
     ]
    },
    {
     "ename": "KeyError",
     "evalue": "'metric_file'",
     "output_type": "error",
     "traceback": [
      "\u001b[0;31m---------------------------------------------------------------------------\u001b[0m",
      "\u001b[0;31mKeyError\u001b[0m                                  Traceback (most recent call last)",
      "\u001b[0;31mKeyError\u001b[0m: 'metric_file'"
     ]
    }
   ],
   "source": [
    "# Training\n",
    "model = Prophet()\n",
    "model.fit(data)"
   ]
  },
  {
   "cell_type": "code",
   "execution_count": null,
   "id": "75df0d19",
   "metadata": {},
   "outputs": [],
   "source": [
    "# 24시간 미래 예측\n",
    "future = model.make_future_dataframe(periods=24, freq='H')\n",
    "forecast = model.predict(future)"
   ]
  },
  {
   "cell_type": "code",
   "execution_count": null,
   "id": "e5b77004",
   "metadata": {},
   "outputs": [],
   "source": [
    "# Graph1\n",
    "fig1 = model.plot(forecast)"
   ]
  },
  {
   "cell_type": "code",
   "execution_count": null,
   "id": "c1b5500e",
   "metadata": {},
   "outputs": [],
   "source": [
    "fig2 = model.plot_components(forecast)"
   ]
  },
  {
   "cell_type": "code",
   "execution_count": null,
   "id": "f00c5297",
   "metadata": {},
   "outputs": [],
   "source": [
    "# 매수 시점 가격\n",
    "nowValue = pyupbit.get_current_price(\"KRW-BTC\")\n",
    "nowValue"
   ]
  },
  {
   "cell_type": "code",
   "execution_count": null,
   "id": "da7e02f9",
   "metadata": {},
   "outputs": [],
   "source": [
    "# 종가의 가격을 구함\n",
    "\n",
    "# 현재 시간이 자전 이전일 때\n",
    "closeDf = forecast[forecast['ds'] == forecast.iloc[-1]['ds'].replace(hour=9)]\n",
    "\n",
    "# 현재 시간이 자정 이후일 때\n",
    "if len(closeDf) == 0:\n",
    "    closeDf = forecate[forecast['ds'] == data.iloc[-1]['ds'].replace(hour=9)]\n",
    "\n",
    "closeValue = closeDf['yhat'].values[0]\n"
   ]
  },
  {
   "cell_type": "code",
   "execution_count": null,
   "id": "a3521e71",
   "metadata": {},
   "outputs": [],
   "source": [
    "closeValue"
   ]
  },
  {
   "cell_type": "code",
   "execution_count": null,
   "id": "44c95844",
   "metadata": {},
   "outputs": [],
   "source": []
  },
  {
   "cell_type": "code",
   "execution_count": null,
   "id": "6867a10a",
   "metadata": {},
   "outputs": [],
   "source": []
  },
  {
   "cell_type": "code",
   "execution_count": null,
   "id": "31a8deee",
   "metadata": {},
   "outputs": [],
   "source": []
  }
 ],
 "metadata": {
  "kernelspec": {
   "display_name": "CoinATS",
   "language": "python",
   "name": "coinats"
  },
  "language_info": {
   "codemirror_mode": {
    "name": "ipython",
    "version": 3
   },
   "file_extension": ".py",
   "mimetype": "text/x-python",
   "name": "python",
   "nbconvert_exporter": "python",
   "pygments_lexer": "ipython3",
   "version": "3.8.13"
  }
 },
 "nbformat": 4,
 "nbformat_minor": 5
}
