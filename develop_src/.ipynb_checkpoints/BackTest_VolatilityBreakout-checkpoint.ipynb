{
 "cells": [
  {
   "cell_type": "markdown",
   "id": "1c515a54",
   "metadata": {},
   "source": [
    "# Back testing Code"
   ]
  },
  {
   "cell_type": "code",
   "execution_count": 56,
   "id": "1044946b",
   "metadata": {},
   "outputs": [],
   "source": [
    "import pyupbit\n",
    "import numpy as np\n",
    "import time\n",
    "import pandas as pd\n",
    "import warnings\n",
    "warnings.filterwarnings(action='ignore')\n",
    "from tqdm import tqdm"
   ]
  },
  {
   "cell_type": "code",
   "execution_count": 57,
   "id": "5acb34ea",
   "metadata": {},
   "outputs": [],
   "source": [
    "coin_type = \"KRW-BTC\"\n",
    "# OHLCV: Open High Low Close Volume. 당일 시가, 고가, 저가, 종가, 거래량에 대한 data\n",
    "df = pyupbit.get_ohlcv(coin_type, count=230) # 7 days"
   ]
  },
  {
   "cell_type": "code",
   "execution_count": 58,
   "id": "487998af",
   "metadata": {},
   "outputs": [],
   "source": [
    "# ==========================================================\n",
    "# 전략: 변동성 돌파\n",
    "\n",
    "\n",
    "# 변동폭*k 계산. (고가-저가)*k value\n",
    "k = 0.032\n",
    "df['range'] = (df['high'] - df['low']) * k\n",
    "\n",
    "# target(매수가), range column을 한 칸씩 밑으로 내림\n",
    "# 어제 가격을 오늘 반영해서 써야 하기 때문\n",
    "df['target'] = df['open'] + df['range'].shift(1) \n",
    "\n",
    "# =========================================================="
   ]
  },
  {
   "cell_type": "code",
   "execution_count": 59,
   "id": "aadfb282",
   "metadata": {},
   "outputs": [
    {
     "data": {
      "text/plain": [
       "2021-08-26 09:00:00    1.000000\n",
       "2021-08-27 09:00:00    1.036541\n",
       "2021-08-28 09:00:00    0.998326\n",
       "2021-08-29 09:00:00    0.996128\n",
       "2021-08-30 09:00:00    0.972982\n",
       "                         ...   \n",
       "2022-04-08 09:00:00    0.982239\n",
       "2022-04-09 09:00:00    1.004465\n",
       "2022-04-10 09:00:00    0.990211\n",
       "2022-04-11 09:00:00    0.946581\n",
       "2022-04-12 09:00:00    1.011712\n",
       "Name: ror, Length: 230, dtype: float64"
      ]
     },
     "execution_count": 59,
     "metadata": {},
     "output_type": "execute_result"
    }
   ],
   "source": [
    "# np.where(조건문, 참일때 값, 거짓일 때 값)\n",
    "fee = 0.0005\n",
    "\n",
    "# 수익률 = 목표가/종가 \n",
    "df['ror'] = np.where(df['high'] > df['target'], df['close']/df['target'] - fee, 1)\n",
    "df['ror']"
   ]
  },
  {
   "cell_type": "code",
   "execution_count": 60,
   "id": "d1063356",
   "metadata": {},
   "outputs": [
    {
     "data": {
      "text/plain": [
       "2021-08-26 09:00:00    1.000000\n",
       "2021-08-27 09:00:00    1.036541\n",
       "2021-08-28 09:00:00    1.034806\n",
       "2021-08-29 09:00:00    1.030799\n",
       "2021-08-30 09:00:00    1.002949\n",
       "                         ...   \n",
       "2022-04-08 09:00:00    0.883049\n",
       "2022-04-09 09:00:00    0.886992\n",
       "2022-04-10 09:00:00    0.878309\n",
       "2022-04-11 09:00:00    0.831390\n",
       "2022-04-12 09:00:00    0.841128\n",
       "Name: hpr, Length: 230, dtype: float64"
      ]
     },
     "execution_count": 60,
     "metadata": {},
     "output_type": "execute_result"
    }
   ],
   "source": [
    "# 누적 곱 계산(cumprod) => 누적 수익률\n",
    "df['hpr'] = df['ror'].cumprod()\n",
    "df['hpr']"
   ]
  },
  {
   "cell_type": "code",
   "execution_count": 61,
   "id": "64c195a2",
   "metadata": {},
   "outputs": [
    {
     "data": {
      "text/html": [
       "<div>\n",
       "<style scoped>\n",
       "    .dataframe tbody tr th:only-of-type {\n",
       "        vertical-align: middle;\n",
       "    }\n",
       "\n",
       "    .dataframe tbody tr th {\n",
       "        vertical-align: top;\n",
       "    }\n",
       "\n",
       "    .dataframe thead th {\n",
       "        text-align: right;\n",
       "    }\n",
       "</style>\n",
       "<table border=\"1\" class=\"dataframe\">\n",
       "  <thead>\n",
       "    <tr style=\"text-align: right;\">\n",
       "      <th></th>\n",
       "      <th>open</th>\n",
       "      <th>high</th>\n",
       "      <th>low</th>\n",
       "      <th>close</th>\n",
       "      <th>volume</th>\n",
       "      <th>value</th>\n",
       "      <th>range</th>\n",
       "      <th>target</th>\n",
       "      <th>ror</th>\n",
       "      <th>hpr</th>\n",
       "      <th>dd</th>\n",
       "    </tr>\n",
       "  </thead>\n",
       "  <tbody>\n",
       "    <tr>\n",
       "      <th>2021-08-26 09:00:00</th>\n",
       "      <td>57088000.0</td>\n",
       "      <td>57497000.0</td>\n",
       "      <td>54504000.0</td>\n",
       "      <td>55225000.0</td>\n",
       "      <td>9477.103725</td>\n",
       "      <td>5.278384e+11</td>\n",
       "      <td>95776.0</td>\n",
       "      <td>NaN</td>\n",
       "      <td>1.000000</td>\n",
       "      <td>1.000000</td>\n",
       "      <td>0.000000</td>\n",
       "    </tr>\n",
       "    <tr>\n",
       "      <th>2021-08-27 09:00:00</th>\n",
       "      <td>55255000.0</td>\n",
       "      <td>57600000.0</td>\n",
       "      <td>54616000.0</td>\n",
       "      <td>57401000.0</td>\n",
       "      <td>8324.331968</td>\n",
       "      <td>4.660757e+11</td>\n",
       "      <td>95488.0</td>\n",
       "      <td>55350776.0</td>\n",
       "      <td>1.036541</td>\n",
       "      <td>1.036541</td>\n",
       "      <td>0.000000</td>\n",
       "    </tr>\n",
       "    <tr>\n",
       "      <th>2021-08-28 09:00:00</th>\n",
       "      <td>57400000.0</td>\n",
       "      <td>57885000.0</td>\n",
       "      <td>56704000.0</td>\n",
       "      <td>57428000.0</td>\n",
       "      <td>5552.262749</td>\n",
       "      <td>3.186951e+11</td>\n",
       "      <td>37792.0</td>\n",
       "      <td>57495488.0</td>\n",
       "      <td>0.998326</td>\n",
       "      <td>1.034806</td>\n",
       "      <td>0.167380</td>\n",
       "    </tr>\n",
       "    <tr>\n",
       "      <th>2021-08-29 09:00:00</th>\n",
       "      <td>57428000.0</td>\n",
       "      <td>58000000.0</td>\n",
       "      <td>56500000.0</td>\n",
       "      <td>57272000.0</td>\n",
       "      <td>11623.618673</td>\n",
       "      <td>6.647657e+11</td>\n",
       "      <td>48000.0</td>\n",
       "      <td>57465792.0</td>\n",
       "      <td>0.996128</td>\n",
       "      <td>1.030799</td>\n",
       "      <td>0.553962</td>\n",
       "    </tr>\n",
       "    <tr>\n",
       "      <th>2021-08-30 09:00:00</th>\n",
       "      <td>57272000.0</td>\n",
       "      <td>57479000.0</td>\n",
       "      <td>55555000.0</td>\n",
       "      <td>55800000.0</td>\n",
       "      <td>14613.333391</td>\n",
       "      <td>8.275263e+11</td>\n",
       "      <td>61568.0</td>\n",
       "      <td>57320000.0</td>\n",
       "      <td>0.972982</td>\n",
       "      <td>1.002949</td>\n",
       "      <td>3.240774</td>\n",
       "    </tr>\n",
       "    <tr>\n",
       "      <th>...</th>\n",
       "      <td>...</td>\n",
       "      <td>...</td>\n",
       "      <td>...</td>\n",
       "      <td>...</td>\n",
       "      <td>...</td>\n",
       "      <td>...</td>\n",
       "      <td>...</td>\n",
       "      <td>...</td>\n",
       "      <td>...</td>\n",
       "      <td>...</td>\n",
       "      <td>...</td>\n",
       "    </tr>\n",
       "    <tr>\n",
       "      <th>2022-04-08 09:00:00</th>\n",
       "      <td>53813000.0</td>\n",
       "      <td>54700000.0</td>\n",
       "      <td>52798000.0</td>\n",
       "      <td>52934000.0</td>\n",
       "      <td>5123.922396</td>\n",
       "      <td>2.760799e+11</td>\n",
       "      <td>60864.0</td>\n",
       "      <td>53863752.0</td>\n",
       "      <td>0.982239</td>\n",
       "      <td>0.883049</td>\n",
       "      <td>32.143944</td>\n",
       "    </tr>\n",
       "    <tr>\n",
       "      <th>2022-04-09 09:00:00</th>\n",
       "      <td>52934000.0</td>\n",
       "      <td>53355000.0</td>\n",
       "      <td>52754000.0</td>\n",
       "      <td>53258000.0</td>\n",
       "      <td>2253.816753</td>\n",
       "      <td>1.195229e+11</td>\n",
       "      <td>19232.0</td>\n",
       "      <td>52994864.0</td>\n",
       "      <td>1.004465</td>\n",
       "      <td>0.886992</td>\n",
       "      <td>31.840946</td>\n",
       "    </tr>\n",
       "    <tr>\n",
       "      <th>2022-04-10 09:00:00</th>\n",
       "      <td>53295000.0</td>\n",
       "      <td>53950000.0</td>\n",
       "      <td>52462000.0</td>\n",
       "      <td>52819000.0</td>\n",
       "      <td>2289.320776</td>\n",
       "      <td>1.217211e+11</td>\n",
       "      <td>47616.0</td>\n",
       "      <td>53314232.0</td>\n",
       "      <td>0.990211</td>\n",
       "      <td>0.878309</td>\n",
       "      <td>32.508150</td>\n",
       "    </tr>\n",
       "    <tr>\n",
       "      <th>2022-04-11 09:00:00</th>\n",
       "      <td>52799000.0</td>\n",
       "      <td>53060000.0</td>\n",
       "      <td>50010000.0</td>\n",
       "      <td>50050000.0</td>\n",
       "      <td>5382.926050</td>\n",
       "      <td>2.779839e+11</td>\n",
       "      <td>97600.0</td>\n",
       "      <td>52846616.0</td>\n",
       "      <td>0.946581</td>\n",
       "      <td>0.831390</td>\n",
       "      <td>36.113530</td>\n",
       "    </tr>\n",
       "    <tr>\n",
       "      <th>2022-04-12 09:00:00</th>\n",
       "      <td>50050000.0</td>\n",
       "      <td>51195000.0</td>\n",
       "      <td>49608000.0</td>\n",
       "      <td>50760000.0</td>\n",
       "      <td>3864.408454</td>\n",
       "      <td>1.946781e+11</td>\n",
       "      <td>50784.0</td>\n",
       "      <td>50147600.0</td>\n",
       "      <td>1.011712</td>\n",
       "      <td>0.841128</td>\n",
       "      <td>35.365295</td>\n",
       "    </tr>\n",
       "  </tbody>\n",
       "</table>\n",
       "<p>230 rows × 11 columns</p>\n",
       "</div>"
      ],
      "text/plain": [
       "                           open        high         low       close  \\\n",
       "2021-08-26 09:00:00  57088000.0  57497000.0  54504000.0  55225000.0   \n",
       "2021-08-27 09:00:00  55255000.0  57600000.0  54616000.0  57401000.0   \n",
       "2021-08-28 09:00:00  57400000.0  57885000.0  56704000.0  57428000.0   \n",
       "2021-08-29 09:00:00  57428000.0  58000000.0  56500000.0  57272000.0   \n",
       "2021-08-30 09:00:00  57272000.0  57479000.0  55555000.0  55800000.0   \n",
       "...                         ...         ...         ...         ...   \n",
       "2022-04-08 09:00:00  53813000.0  54700000.0  52798000.0  52934000.0   \n",
       "2022-04-09 09:00:00  52934000.0  53355000.0  52754000.0  53258000.0   \n",
       "2022-04-10 09:00:00  53295000.0  53950000.0  52462000.0  52819000.0   \n",
       "2022-04-11 09:00:00  52799000.0  53060000.0  50010000.0  50050000.0   \n",
       "2022-04-12 09:00:00  50050000.0  51195000.0  49608000.0  50760000.0   \n",
       "\n",
       "                           volume         value    range      target  \\\n",
       "2021-08-26 09:00:00   9477.103725  5.278384e+11  95776.0         NaN   \n",
       "2021-08-27 09:00:00   8324.331968  4.660757e+11  95488.0  55350776.0   \n",
       "2021-08-28 09:00:00   5552.262749  3.186951e+11  37792.0  57495488.0   \n",
       "2021-08-29 09:00:00  11623.618673  6.647657e+11  48000.0  57465792.0   \n",
       "2021-08-30 09:00:00  14613.333391  8.275263e+11  61568.0  57320000.0   \n",
       "...                           ...           ...      ...         ...   \n",
       "2022-04-08 09:00:00   5123.922396  2.760799e+11  60864.0  53863752.0   \n",
       "2022-04-09 09:00:00   2253.816753  1.195229e+11  19232.0  52994864.0   \n",
       "2022-04-10 09:00:00   2289.320776  1.217211e+11  47616.0  53314232.0   \n",
       "2022-04-11 09:00:00   5382.926050  2.779839e+11  97600.0  52846616.0   \n",
       "2022-04-12 09:00:00   3864.408454  1.946781e+11  50784.0  50147600.0   \n",
       "\n",
       "                          ror       hpr         dd  \n",
       "2021-08-26 09:00:00  1.000000  1.000000   0.000000  \n",
       "2021-08-27 09:00:00  1.036541  1.036541   0.000000  \n",
       "2021-08-28 09:00:00  0.998326  1.034806   0.167380  \n",
       "2021-08-29 09:00:00  0.996128  1.030799   0.553962  \n",
       "2021-08-30 09:00:00  0.972982  1.002949   3.240774  \n",
       "...                       ...       ...        ...  \n",
       "2022-04-08 09:00:00  0.982239  0.883049  32.143944  \n",
       "2022-04-09 09:00:00  1.004465  0.886992  31.840946  \n",
       "2022-04-10 09:00:00  0.990211  0.878309  32.508150  \n",
       "2022-04-11 09:00:00  0.946581  0.831390  36.113530  \n",
       "2022-04-12 09:00:00  1.011712  0.841128  35.365295  \n",
       "\n",
       "[230 rows x 11 columns]"
      ]
     },
     "execution_count": 61,
     "metadata": {},
     "output_type": "execute_result"
    }
   ],
   "source": [
    "# Draw Down 계산. (누적 최대 값과 현재 hpr 차이/ 누적 최대값*100)\n",
    "df['dd'] = (df['hpr'].cummax() - df['hpr']) / df['hpr'].cummax() *100\n",
    "df"
   ]
  },
  {
   "cell_type": "code",
   "execution_count": 62,
   "id": "b98ee233",
   "metadata": {},
   "outputs": [
    {
     "name": "stdout",
     "output_type": "stream",
     "text": [
      "MDD(%): 43.55921329765465\n"
     ]
    }
   ],
   "source": [
    "print(f\"MDD(%): {df['dd'].max()}\") "
   ]
  },
  {
   "cell_type": "code",
   "execution_count": 63,
   "id": "85002b51",
   "metadata": {},
   "outputs": [
    {
     "data": {
      "text/plain": [
       "0.8411276726162491"
      ]
     },
     "execution_count": 63,
     "metadata": {},
     "output_type": "execute_result"
    }
   ],
   "source": [
    "df['hpr'][-1]"
   ]
  },
  {
   "cell_type": "markdown",
   "id": "13f9e979",
   "metadata": {},
   "source": [
    "# Back testing function"
   ]
  },
  {
   "cell_type": "code",
   "execution_count": 129,
   "id": "508ca160",
   "metadata": {},
   "outputs": [],
   "source": [
    "def back_testing(coin_type, k_value, term, prt:bool=False):\n",
    "    time.sleep(0.05) # Redundant\n",
    "    try:\n",
    "        df = pyupbit.get_ohlcv(coin_type, count=term) # Redundant\n",
    "        df['range'] = (df['high'] - df['low']) * k_value\n",
    "        df['target'] = df['open'] + df['range'].shift(1) \n",
    "\n",
    "        fee = 0.0032\n",
    "        df['ror'] = np.where(df['high'] > df['target'], df['close']/df['target'] - fee, 1)\n",
    "\n",
    "        df['hpr'] = df['ror'].cumprod()\n",
    "        df['dd'] = (df['hpr'].cummax() - df['hpr']) / df['hpr'].cummax() * 100\n",
    "\n",
    "        pct = df['hpr'][-1]\n",
    "        profit = round(pct-1, 5) * 100\n",
    "\n",
    "        if (prt):\n",
    "            print_str = f\"{coin_type} {term}일간 수익률: {profit}%, MDD: {df['dd'].max()}\"\n",
    "            print(print_str)\n",
    "\n",
    "    except Exception as e:\n",
    "        print(e)\n",
    "        time.sleep(0.1)\n",
    "        return 7210, 7210\n",
    "    \n",
    "    return profit, df['dd'].max()"
   ]
  },
  {
   "cell_type": "code",
   "execution_count": 130,
   "id": "bc956bfa",
   "metadata": {},
   "outputs": [
    {
     "name": "stdout",
     "output_type": "stream",
     "text": [
      "KRW-ETH 60일간 수익률: -6.938%, MDD: 21.04262739496697\n"
     ]
    },
    {
     "data": {
      "text/plain": [
       "(-6.938, 21.04262739496697)"
      ]
     },
     "execution_count": 130,
     "metadata": {},
     "output_type": "execute_result"
    }
   ],
   "source": [
    "back_testing(\"KRW-ETH\", 0.0032, 60, True)"
   ]
  },
  {
   "cell_type": "code",
   "execution_count": 131,
   "id": "bbf95fbe",
   "metadata": {},
   "outputs": [
    {
     "name": "stdout",
     "output_type": "stream",
     "text": [
      "KRW-ETH 60일간 수익률: -16.115%, MDD: 20.278313895826894\n"
     ]
    },
    {
     "data": {
      "text/plain": [
       "(-16.115, 20.278313895826894)"
      ]
     },
     "execution_count": 131,
     "metadata": {},
     "output_type": "execute_result"
    }
   ],
   "source": [
    "back_testing(\"KRW-ETH\", 0.451, 60, True)"
   ]
  },
  {
   "cell_type": "code",
   "execution_count": 132,
   "id": "49d116d8",
   "metadata": {},
   "outputs": [
    {
     "name": "stdout",
     "output_type": "stream",
     "text": [
      "KRW-BTC 60일간 수익률: -14.255%, MDD: 18.584308594224407\n"
     ]
    },
    {
     "data": {
      "text/plain": [
       "(-14.255, 18.584308594224407)"
      ]
     },
     "execution_count": 132,
     "metadata": {},
     "output_type": "execute_result"
    }
   ],
   "source": [
    "back_testing(\"KRW-BTC\", 0.0032, 60, True)"
   ]
  },
  {
   "cell_type": "code",
   "execution_count": 133,
   "id": "85067bc9",
   "metadata": {},
   "outputs": [
    {
     "name": "stdout",
     "output_type": "stream",
     "text": [
      "KRW-BTC 60일간 수익률: 5.373%, MDD: 9.090997560744995\n"
     ]
    },
    {
     "data": {
      "text/plain": [
       "(5.373, 9.090997560744995)"
      ]
     },
     "execution_count": 133,
     "metadata": {},
     "output_type": "execute_result"
    }
   ],
   "source": [
    "back_testing(\"KRW-BTC\", 0.451, 60, True)"
   ]
  },
  {
   "cell_type": "markdown",
   "id": "df17a85d",
   "metadata": {},
   "source": [
    "# Finding Hyper parameter"
   ]
  },
  {
   "cell_type": "code",
   "execution_count": 176,
   "id": "6f126a2f",
   "metadata": {},
   "outputs": [],
   "source": [
    "def find_hyper_k(coin_type, term):\n",
    "    # k value의 최적값을 찾기 위해 backtesting하며 수익률을 확인한다.\n",
    "    df = pd.DataFrame([[0,0,0]], columns=['수익률', 'MDD%', 'k-value'])\n",
    "\n",
    "    for i in tqdm(np.arange(0, 0.5, 0.001), desc='Progress', mininterval=0.1):\n",
    "        profit, mdd = back_testing(coin_type, i, term, False)\n",
    "\n",
    "        max_profit = df['수익률'].max()\n",
    "        if profit >= max_profit:\n",
    "            df = df.append(pd.Series([profit, mdd, i], index=df.columns), ignore_index=True)\n",
    "\n",
    "    filter = df['수익률'] == df['수익률'].max()\n",
    "    hyper_k = df[filter].iloc[0,2]\n",
    "    \n",
    "    return hyper_k"
   ]
  },
  {
   "cell_type": "code",
   "execution_count": 163,
   "id": "f54d1956",
   "metadata": {},
   "outputs": [],
   "source": [
    "filter = df['수익률'] == df['수익률'].max()\n",
    "df[filter]"
   ]
  },
  {
   "cell_type": "code",
   "execution_count": 143,
   "id": "4bde7daa",
   "metadata": {},
   "outputs": [],
   "source": [
    "filt2 = df['수익률'] == 7210\n",
    "df[filt2]"
   ]
  },
  {
   "cell_type": "code",
   "execution_count": 160,
   "id": "7f9efe32",
   "metadata": {},
   "outputs": [
    {
     "data": {
      "text/html": [
       "<div>\n",
       "<style scoped>\n",
       "    .dataframe tbody tr th:only-of-type {\n",
       "        vertical-align: middle;\n",
       "    }\n",
       "\n",
       "    .dataframe tbody tr th {\n",
       "        vertical-align: top;\n",
       "    }\n",
       "\n",
       "    .dataframe thead th {\n",
       "        text-align: right;\n",
       "    }\n",
       "</style>\n",
       "<table border=\"1\" class=\"dataframe\">\n",
       "  <thead>\n",
       "    <tr style=\"text-align: right;\">\n",
       "      <th></th>\n",
       "      <th>수익률</th>\n",
       "      <th>MDD%</th>\n",
       "      <th>k-value</th>\n",
       "    </tr>\n",
       "  </thead>\n",
       "  <tbody>\n",
       "    <tr>\n",
       "      <th>0</th>\n",
       "      <td>0.000</td>\n",
       "      <td>0.000000</td>\n",
       "      <td>0.000</td>\n",
       "    </tr>\n",
       "    <tr>\n",
       "      <th>1</th>\n",
       "      <td>46.881</td>\n",
       "      <td>27.552542</td>\n",
       "      <td>0.000</td>\n",
       "    </tr>\n",
       "    <tr>\n",
       "      <th>2</th>\n",
       "      <td>54.634</td>\n",
       "      <td>19.138031</td>\n",
       "      <td>0.038</td>\n",
       "    </tr>\n",
       "    <tr>\n",
       "      <th>3</th>\n",
       "      <td>69.170</td>\n",
       "      <td>11.397063</td>\n",
       "      <td>0.039</td>\n",
       "    </tr>\n",
       "    <tr>\n",
       "      <th>4</th>\n",
       "      <td>71.204</td>\n",
       "      <td>12.573012</td>\n",
       "      <td>0.059</td>\n",
       "    </tr>\n",
       "  </tbody>\n",
       "</table>\n",
       "</div>"
      ],
      "text/plain": [
       "      수익률       MDD%  k-value\n",
       "0   0.000   0.000000    0.000\n",
       "1  46.881  27.552542    0.000\n",
       "2  54.634  19.138031    0.038\n",
       "3  69.170  11.397063    0.039\n",
       "4  71.204  12.573012    0.059"
      ]
     },
     "execution_count": 160,
     "metadata": {},
     "output_type": "execute_result"
    }
   ],
   "source": [
    "df"
   ]
  },
  {
   "cell_type": "code",
   "execution_count": 183,
   "id": "e0adc9cd",
   "metadata": {},
   "outputs": [
    {
     "name": "stderr",
     "output_type": "stream",
     "text": [
      "Progress: 100%|██████████| 500/500 [01:07<00:00,  7.44it/s]\n"
     ]
    },
    {
     "data": {
      "text/plain": [
       "0.048"
      ]
     },
     "execution_count": 183,
     "metadata": {},
     "output_type": "execute_result"
    }
   ],
   "source": [
    "find_hyper_k(\"KRW-NEAR\", 11)"
   ]
  },
  {
   "cell_type": "code",
   "execution_count": 184,
   "id": "531eb9e1",
   "metadata": {},
   "outputs": [
    {
     "data": {
      "text/html": [
       "<div>\n",
       "<style scoped>\n",
       "    .dataframe tbody tr th:only-of-type {\n",
       "        vertical-align: middle;\n",
       "    }\n",
       "\n",
       "    .dataframe tbody tr th {\n",
       "        vertical-align: top;\n",
       "    }\n",
       "\n",
       "    .dataframe thead th {\n",
       "        text-align: right;\n",
       "    }\n",
       "</style>\n",
       "<table border=\"1\" class=\"dataframe\">\n",
       "  <thead>\n",
       "    <tr style=\"text-align: right;\">\n",
       "      <th></th>\n",
       "      <th>수익률</th>\n",
       "      <th>MDD%</th>\n",
       "      <th>k-value</th>\n",
       "    </tr>\n",
       "  </thead>\n",
       "  <tbody>\n",
       "    <tr>\n",
       "      <th>0</th>\n",
       "      <td>0.000</td>\n",
       "      <td>0.000000</td>\n",
       "      <td>0.0</td>\n",
       "    </tr>\n",
       "    <tr>\n",
       "      <th>1</th>\n",
       "      <td>14.458</td>\n",
       "      <td>12.183263</td>\n",
       "      <td>0.0</td>\n",
       "    </tr>\n",
       "  </tbody>\n",
       "</table>\n",
       "</div>"
      ],
      "text/plain": [
       "      수익률       MDD%  k-value\n",
       "0   0.000   0.000000      0.0\n",
       "1  14.458  12.183263      0.0"
      ]
     },
     "execution_count": 184,
     "metadata": {},
     "output_type": "execute_result"
    }
   ],
   "source": [
    "df"
   ]
  },
  {
   "cell_type": "code",
   "execution_count": 179,
   "id": "0126faab",
   "metadata": {},
   "outputs": [
    {
     "name": "stderr",
     "output_type": "stream",
     "text": [
      "Progress: 100%|██████████| 500/500 [01:06<00:00,  7.47it/s]\n"
     ]
    }
   ],
   "source": [
    "# k value의 최적값을 찾기 위해 backtesting하며 수익률을 확인한다.\n",
    "df = pd.DataFrame([[0,0,0]], columns=['수익률', 'MDD%', 'k-value'])\n",
    "\n",
    "for i in tqdm(np.arange(0, 0.5, 0.001), desc='Progress', mininterval=0.1):\n",
    "    profit, mdd = back_testing(\"KRW-KNC\", i, 14, False)\n",
    "\n",
    "    max_profit = df['수익률'].max()\n",
    "    if profit >= max_profit:\n",
    "        df = df.append(pd.Series([profit, mdd, i], index=df.columns), ignore_index=True)\n",
    "filter = df['수익률'] == df['수익률'].max()\n",
    "hyper_k = df[filter].iloc[0,2]"
   ]
  },
  {
   "cell_type": "code",
   "execution_count": 180,
   "id": "16a84601",
   "metadata": {},
   "outputs": [
    {
     "data": {
      "text/html": [
       "<div>\n",
       "<style scoped>\n",
       "    .dataframe tbody tr th:only-of-type {\n",
       "        vertical-align: middle;\n",
       "    }\n",
       "\n",
       "    .dataframe tbody tr th {\n",
       "        vertical-align: top;\n",
       "    }\n",
       "\n",
       "    .dataframe thead th {\n",
       "        text-align: right;\n",
       "    }\n",
       "</style>\n",
       "<table border=\"1\" class=\"dataframe\">\n",
       "  <thead>\n",
       "    <tr style=\"text-align: right;\">\n",
       "      <th></th>\n",
       "      <th>수익률</th>\n",
       "      <th>MDD%</th>\n",
       "      <th>k-value</th>\n",
       "    </tr>\n",
       "  </thead>\n",
       "  <tbody>\n",
       "    <tr>\n",
       "      <th>1</th>\n",
       "      <td>14.458</td>\n",
       "      <td>12.183263</td>\n",
       "      <td>0.0</td>\n",
       "    </tr>\n",
       "  </tbody>\n",
       "</table>\n",
       "</div>"
      ],
      "text/plain": [
       "      수익률       MDD%  k-value\n",
       "1  14.458  12.183263      0.0"
      ]
     },
     "execution_count": 180,
     "metadata": {},
     "output_type": "execute_result"
    }
   ],
   "source": [
    "filter = df['수익률'] == df['수익률'].max()\n",
    "df[filter]"
   ]
  },
  {
   "cell_type": "code",
   "execution_count": null,
   "id": "b363320f",
   "metadata": {},
   "outputs": [],
   "source": [
    "if target_price < current_price:\n",
    "my_krw = get_balance(\"KRW\")\n",
    "if my_krw > 5000:\n",
    "upbit.buy_market_order(self.coin_type, my_krw*0.9995) # 전량 매수\n",
    "buying_price = current_price\n",
    "if current_price/buying_price > 1.3:\n",
    "upbit.sell_market_order(self.coin_type, btc*0.9995)# 전량 매도\n",
    "\n",
    "# Resting time\n",
    "else:\n",
    "btc = updit.get_balance(self.coin_type)\n",
    "if apr_price > 5000: # 거래 최소금액 이상이면\n",
    "upbit.sell_market_order(self.coin_type, btc*0.9995) # 전량 매도\n",
    "time.sleep(1)\n",
    "\n",
    "except Exception as e:\n",
    "print(e)\n",
    "time.sleep(0.1)"
   ]
  }
 ],
 "metadata": {
  "kernelspec": {
   "display_name": "CoinATS",
   "language": "python",
   "name": "coinats"
  },
  "language_info": {
   "codemirror_mode": {
    "name": "ipython",
    "version": 3
   },
   "file_extension": ".py",
   "mimetype": "text/x-python",
   "name": "python",
   "nbconvert_exporter": "python",
   "pygments_lexer": "ipython3",
   "version": "3.8.13"
  }
 },
 "nbformat": 4,
 "nbformat_minor": 5
}
